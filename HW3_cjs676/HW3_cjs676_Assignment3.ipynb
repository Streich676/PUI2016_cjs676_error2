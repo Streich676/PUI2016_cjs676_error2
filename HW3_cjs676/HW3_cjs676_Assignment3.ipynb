{
 "cells": [
  {
   "cell_type": "markdown",
   "metadata": {},
   "source": [
    "Z Score; how many standard deviations away from the mean \n",
    "\n",
    "Is the new bus route improving commute? Know what the travel time used to be mu=36, sigma=6\n",
    "\n",
    "\n",
    "\n",
    "Alternative: H1: The change in the route for bus X8 reduced the travel time at peak hours. H1: old_mu > new_mu\n",
    "\n",
    "\n",
    "NULL: H0: THe travel time for bus X8 is equal to or longer than the travel time before the route was changed. H0: old_mu <= new_mu\n",
    "\n",
    "Significance level: alpha = .05\n",
    "u1=36, std=6\n",
    "\n",
    "\n"
   ]
  },
  {
   "cell_type": "markdown",
   "metadata": {},
   "source": [
    "Importing a bunch of tools "
   ]
  },
  {
   "cell_type": "code",
   "execution_count": 21,
   "metadata": {
    "collapsed": false
   },
   "outputs": [
    {
     "name": "stdout",
     "output_type": "stream",
     "text": [
      "Populating the interactive namespace from numpy and matplotlib\n"
     ]
    }
   ],
   "source": [
    "from __future__ import division, print_function\n",
    "import sys\n",
    "import os\n",
    "import json\n",
    "import sys\n",
    "import csv\n",
    "import pandas as pd\n",
    "import numpy as np\n",
    "import pylab as py\n",
    "from pandas import Series, DataFrame\n",
    "%pylab inline\n",
    "\n",
    "# add the urllib2 to get data from a url\n",
    "import urllib2"
   ]
  },
  {
   "cell_type": "code",
   "execution_count": 32,
   "metadata": {
    "collapsed": false
   },
   "outputs": [
    {
     "data": {
      "text/html": [
       "<div>\n",
       "<table border=\"1\" class=\"dataframe\">\n",
       "  <thead>\n",
       "    <tr style=\"text-align: right;\">\n",
       "      <th></th>\n",
       "      <th>0</th>\n",
       "    </tr>\n",
       "  </thead>\n",
       "  <tbody>\n",
       "    <tr>\n",
       "      <th>0</th>\n",
       "      <td>31.622239</td>\n",
       "    </tr>\n",
       "    <tr>\n",
       "      <th>1</th>\n",
       "      <td>32.821376</td>\n",
       "    </tr>\n",
       "    <tr>\n",
       "      <th>2</th>\n",
       "      <td>30.229101</td>\n",
       "    </tr>\n",
       "    <tr>\n",
       "      <th>3</th>\n",
       "      <td>31.413766</td>\n",
       "    </tr>\n",
       "    <tr>\n",
       "      <th>4</th>\n",
       "      <td>39.010550</td>\n",
       "    </tr>\n",
       "  </tbody>\n",
       "</table>\n",
       "</div>"
      ],
      "text/plain": [
       "           0\n",
       "0  31.622239\n",
       "1  32.821376\n",
       "2  30.229101\n",
       "3  31.413766\n",
       "4  39.010550"
      ]
     },
     "execution_count": 32,
     "metadata": {},
     "output_type": "execute_result"
    }
   ],
   "source": [
    "#url = 'https://raw.githubusercontent.com/fedhere/PUI2016_fb55/master/Lab3_fb55/times.txt'\n",
    "    \n",
    "#response = urllib2.urlopen(url)\n",
    "#data = response.read()\n",
    "#print(data)\n",
    "dataframe = pd.read_csv('https://raw.githubusercontent.com/fedhere/PUI2016_fb55/master/Lab3_fb55/times.txt', header=None)\n",
    "dataframe.head()"
   ]
  },
  {
   "cell_type": "code",
   "execution_count": 35,
   "metadata": {
    "collapsed": false
   },
   "outputs": [
    {
     "data": {
      "text/plain": [
       "0    7.13728\n",
       "dtype: float64"
      ]
     },
     "execution_count": 35,
     "metadata": {},
     "output_type": "execute_result"
    }
   ],
   "source": [
    "dataframe.mean()\n",
    "dataframe.std()"
   ]
  },
  {
   "cell_type": "code",
   "execution_count": 51,
   "metadata": {
    "collapsed": false
   },
   "outputs": [
    {
     "name": "stdout",
     "output_type": "stream",
     "text": [
      "The new mean is  0    34.466162\n",
      "dtype: float64\n",
      "The new std is 0    7.13728\n",
      "dtype: float64\n",
      "100\n"
     ]
    }
   ],
   "source": [
    "old_mu = 36\n",
    "old_sigma = 6\n",
    "new_mu = dataframe.mean()\n",
    "new_sigma = dataframe.std()\n",
    "print('The new mean is ', new_mu)\n",
    "print('The new std is', new_sigma)\n",
    "N = len(dataframe) \n",
    "print(N)"
   ]
  },
  {
   "cell_type": "code",
   "execution_count": 53,
   "metadata": {
    "collapsed": false
   },
   "outputs": [
    {
     "name": "stdout",
     "output_type": "stream",
     "text": [
      "0    2.556397\n",
      "dtype: float64\n"
     ]
    }
   ],
   "source": [
    "Z = (old_mu - new_mu)/(old_sigma/np.sqrt(N))\n",
    "print(Z)"
   ]
  },
  {
   "cell_type": "markdown",
   "metadata": {
    "collapsed": true
   },
   "source": [
    "The Z score of 2.556 provides a p-value of .005. This value is outside of the .05 confidence level we initially set meaning that the change in the bus route lead to a statitically significant reduction in commute time. The Alternative hypothesis is proven. \n",
    "\n"
   ]
  }
 ],
 "metadata": {
  "anaconda-cloud": {},
  "kernelspec": {
   "display_name": "Python [Root]",
   "language": "python",
   "name": "Python [Root]"
  },
  "language_info": {
   "codemirror_mode": {
    "name": "ipython",
    "version": 2
   },
   "file_extension": ".py",
   "mimetype": "text/x-python",
   "name": "python",
   "nbconvert_exporter": "python",
   "pygments_lexer": "ipython2",
   "version": "2.7.12"
  }
 },
 "nbformat": 4,
 "nbformat_minor": 0
}
