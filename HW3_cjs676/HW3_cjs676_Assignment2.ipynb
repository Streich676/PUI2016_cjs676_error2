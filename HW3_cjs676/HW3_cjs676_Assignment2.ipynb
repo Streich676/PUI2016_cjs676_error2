{
 "cells": [
  {
   "cell_type": "markdown",
   "metadata": {},
   "source": [
    "print ('We have the data of the city bike trip of February 2014')\n",
    "print ('')\n",
    "print (' HYPOTHESIS ')\n",
    "print (' The average number of bike-trips of a working day in February')\n",
    "print (' is higher than the average numbers of bike trips in the weekend')\n",
    "print ('')\n",
    "print (' Lets define')\n",
    "print (' WORKING DAY = MONDAY-FRIDAY ')\n",
    "print (' WEEK-END = SATURDAY AND SUNDAY')\n",
    "print (' BIKE TRIP = A pick up of a bike')\n",
    "print (' AVERAGE NUMBER OF BIKE-TRIPS = Total number of bike-trips of \"n\" days divided by \"n\"')\n",
    "print ('')\n",
    "print ('')\n",
    "print (' NULL HYPOTHESIS')\n",
    "print (' The average number of bike-trips of a working day in February')\n",
    "print (' is equal or less than the average numbers of bike trips in the weekend ')\n",
    "\n",
    "print ('')\n",
    "print ('Significance level a=0.05')"
   ]
  },
  {
   "cell_type": "code",
   "execution_count": 47,
   "metadata": {
    "collapsed": false
   },
   "outputs": [
    {
     "name": "stdout",
     "output_type": "stream",
     "text": [
      "Populating the interactive namespace from numpy and matplotlib\n",
      "Populating the interactive namespace from numpy and matplotlib\n"
     ]
    }
   ],
   "source": [
    "\n",
    "from __future__ import division, print_function\n",
    "import sys\n",
    "import os\n",
    "import json\n",
    "import sys\n",
    "import csv\n",
    "import pandas as pd\n",
    "import numpy as np\n",
    "import pylab as py\n",
    "from pandas import Series, DataFrame\n",
    "%pylab inline\n",
    "#import seaborn\n",
    "from scipy.optimize import curve_fit, minimize"
   ]
  },
  {
   "cell_type": "code",
   "execution_count": 15,
   "metadata": {
    "collapsed": false
   },
   "outputs": [
    {
     "name": "stdout",
     "output_type": "stream",
     "text": [
      "/home/cusp/cjs676/PUI2016\n"
     ]
    }
   ],
   "source": [
    "if os.getenv ('PUI2016') is None:\n",
    "    print (\"Must set env variable PUI2016\")\n",
    "print (os.getenv ('PUI2016')) \n"
   ]
  },
  {
   "cell_type": "code",
   "execution_count": 16,
   "metadata": {
    "collapsed": false
   },
   "outputs": [
    {
     "name": "stdout",
     "output_type": "stream",
     "text": [
      "/home/cusp/cjs676/PUI2016/fbb_matplotlibrc.json\n"
     ]
    }
   ],
   "source": [
    "print (os.getenv ('PUI2016')+'/fbb_matplotlibrc.json')"
   ]
  },
  {
   "cell_type": "code",
   "execution_count": 17,
   "metadata": {
    "collapsed": false
   },
   "outputs": [
    {
     "data": {
      "text/plain": [
       "'/home/cusp/cjs676/PUIdata'"
      ]
     },
     "execution_count": 17,
     "metadata": {},
     "output_type": "execute_result"
    }
   ],
   "source": [
    "#s = json.load(\"/home/cusp/cjs676/PUI2016_cjs676/cjs_matplotlibrc.json\")\n",
    "pl.rcParams.update()\n",
    "os.getenv('PUIDATA')\n"
   ]
  },
  {
   "cell_type": "code",
   "execution_count": 97,
   "metadata": {
    "collapsed": false
   },
   "outputs": [
    {
     "name": "stdout",
     "output_type": "stream",
     "text": [
      "did anything work\n"
     ]
    }
   ],
   "source": [
    "### A function to download the data: simple bash commands can be run by preceding them with !\n",
    "### but more complex command lines with variable arguments need to be build as strng and run with os.system\n",
    "\n",
    "\n",
    "def getCitiBikeCSV(datestring):\n",
    "    print (\"Downloading\", datestring)\n",
    "    ### First I will heck that it is not already there\n",
    "    if not os.path.isfile(os.getenv(\"PUIDATA\") + \"/\" + datestring + \"-citibike-tripdata.csv\"):\n",
    "        if os.path.isfile(datestring + \"-citibike-tripdata.csv\"):\n",
    "            # if in the current dir just move it\n",
    "            if os.system(\"mv \" + datestring + \"-citibike-tripdata.csv \" + os.getenv(\"PUIDATA\")):\n",
    "                print (\"Error moving file!, Please check!\")\n",
    "        #otherwise start looking for the zip file\n",
    "        else:\n",
    "            if not os.path.isfile(os.getenv(\"PUIDATA\") + \"/\" + datestring + \"-citibike-tripdata.zip\"):\n",
    "                if not os.path.isfile(datestring + \"-citibike-tripdata.zip\"):\n",
    "                    os.system(\"curl -O https://s3.amazonaws.com/tripdata/\" + datestring + \"-citibike-tripdata.zip\")\n",
    "                ###  To move it I use the os.system() functions to run bash commands with arguments\n",
    "                os.system(\"mv \" + datestring + \"-citibike-tripdata.zip \" + os.getenv(\"PUIDATA\"))\n",
    "            ### unzip the csv \n",
    "            os.system(\"unzip \" + os.getenv(\"PUIDATA\") + \"/\" + datestring + \"-citibike-tripdata.zip\")\n",
    "            ## NOTE: old csv citibike data had a different name structure. \n",
    "            if '2014' in datestring:\n",
    "                os.system(\"mv \" + datestring[:4] + '-' +  datestring[4:] + \n",
    "                          \"\\ -\\ Citi\\ Bike\\ trip\\ data.csv \" + datestring + \"-citibike-tripdata.csv\")\n",
    "                os.system(\"mv \" + datestring + \"-citibike-tripdata.csv \" + os.getenv(\"PUIDATA\"))\n",
    "    ### One final check:\n",
    "    if not os.path.isfile(os.getenv(\"PUIDATA\") + \"/\" + datestring + \"-citibike-tripdata.csv\"):\n",
    "        print (\"WARNING!!! something is wrong: the file is not there!\")\n",
    "\n",
    "    else:\n",
    "        print (\"file in place, you can continue\")\n",
    "        \n",
    "print('did anything work')"
   ]
  },
  {
   "cell_type": "code",
   "execution_count": 104,
   "metadata": {
    "collapsed": false
   },
   "outputs": [
    {
     "name": "stdout",
     "output_type": "stream",
     "text": [
      "Downloading 201402\n",
      "file in place, you can continue\n"
     ]
    }
   ],
   "source": [
    "datestring = '201402'\n",
    "getCitiBikeCSV(datestring)\n"
   ]
  },
  {
   "cell_type": "code",
   "execution_count": 105,
   "metadata": {
    "collapsed": false
   },
   "outputs": [
    {
     "data": {
      "text/html": [
       "<div>\n",
       "<table border=\"1\" class=\"dataframe\">\n",
       "  <thead>\n",
       "    <tr style=\"text-align: right;\">\n",
       "      <th></th>\n",
       "      <th>tripduration</th>\n",
       "      <th>starttime</th>\n",
       "      <th>stoptime</th>\n",
       "      <th>start station id</th>\n",
       "      <th>start station name</th>\n",
       "      <th>start station latitude</th>\n",
       "      <th>start station longitude</th>\n",
       "      <th>end station id</th>\n",
       "      <th>end station name</th>\n",
       "      <th>end station latitude</th>\n",
       "      <th>end station longitude</th>\n",
       "      <th>bikeid</th>\n",
       "      <th>usertype</th>\n",
       "      <th>birth year</th>\n",
       "      <th>gender</th>\n",
       "      <th>date</th>\n",
       "    </tr>\n",
       "  </thead>\n",
       "  <tbody>\n",
       "    <tr>\n",
       "      <th>0</th>\n",
       "      <td>382</td>\n",
       "      <td>2014-02-01 00:00:00</td>\n",
       "      <td>2014-02-01 00:06:22</td>\n",
       "      <td>294</td>\n",
       "      <td>Washington Square E</td>\n",
       "      <td>40.730494</td>\n",
       "      <td>-73.995721</td>\n",
       "      <td>265</td>\n",
       "      <td>Stanton St &amp; Chrystie St</td>\n",
       "      <td>40.722293</td>\n",
       "      <td>-73.991475</td>\n",
       "      <td>21101</td>\n",
       "      <td>Subscriber</td>\n",
       "      <td>1991</td>\n",
       "      <td>1</td>\n",
       "      <td>2014-02-01 00:00:00</td>\n",
       "    </tr>\n",
       "    <tr>\n",
       "      <th>1</th>\n",
       "      <td>372</td>\n",
       "      <td>2014-02-01 00:00:03</td>\n",
       "      <td>2014-02-01 00:06:15</td>\n",
       "      <td>285</td>\n",
       "      <td>Broadway &amp; E 14 St</td>\n",
       "      <td>40.734546</td>\n",
       "      <td>-73.990741</td>\n",
       "      <td>439</td>\n",
       "      <td>E 4 St &amp; 2 Ave</td>\n",
       "      <td>40.726281</td>\n",
       "      <td>-73.989780</td>\n",
       "      <td>15456</td>\n",
       "      <td>Subscriber</td>\n",
       "      <td>1979</td>\n",
       "      <td>2</td>\n",
       "      <td>2014-02-01 00:00:03</td>\n",
       "    </tr>\n",
       "    <tr>\n",
       "      <th>2</th>\n",
       "      <td>591</td>\n",
       "      <td>2014-02-01 00:00:09</td>\n",
       "      <td>2014-02-01 00:10:00</td>\n",
       "      <td>247</td>\n",
       "      <td>Perry St &amp; Bleecker St</td>\n",
       "      <td>40.735354</td>\n",
       "      <td>-74.004831</td>\n",
       "      <td>251</td>\n",
       "      <td>Mott St &amp; Prince St</td>\n",
       "      <td>40.723180</td>\n",
       "      <td>-73.994800</td>\n",
       "      <td>16281</td>\n",
       "      <td>Subscriber</td>\n",
       "      <td>1948</td>\n",
       "      <td>2</td>\n",
       "      <td>2014-02-01 00:00:09</td>\n",
       "    </tr>\n",
       "    <tr>\n",
       "      <th>3</th>\n",
       "      <td>583</td>\n",
       "      <td>2014-02-01 00:00:32</td>\n",
       "      <td>2014-02-01 00:10:15</td>\n",
       "      <td>357</td>\n",
       "      <td>E 11 St &amp; Broadway</td>\n",
       "      <td>40.732618</td>\n",
       "      <td>-73.991580</td>\n",
       "      <td>284</td>\n",
       "      <td>Greenwich Ave &amp; 8 Ave</td>\n",
       "      <td>40.739017</td>\n",
       "      <td>-74.002638</td>\n",
       "      <td>17400</td>\n",
       "      <td>Subscriber</td>\n",
       "      <td>1981</td>\n",
       "      <td>1</td>\n",
       "      <td>2014-02-01 00:00:32</td>\n",
       "    </tr>\n",
       "    <tr>\n",
       "      <th>4</th>\n",
       "      <td>223</td>\n",
       "      <td>2014-02-01 00:00:41</td>\n",
       "      <td>2014-02-01 00:04:24</td>\n",
       "      <td>401</td>\n",
       "      <td>Allen St &amp; Rivington St</td>\n",
       "      <td>40.720196</td>\n",
       "      <td>-73.989978</td>\n",
       "      <td>439</td>\n",
       "      <td>E 4 St &amp; 2 Ave</td>\n",
       "      <td>40.726281</td>\n",
       "      <td>-73.989780</td>\n",
       "      <td>19341</td>\n",
       "      <td>Subscriber</td>\n",
       "      <td>1990</td>\n",
       "      <td>1</td>\n",
       "      <td>2014-02-01 00:00:41</td>\n",
       "    </tr>\n",
       "  </tbody>\n",
       "</table>\n",
       "</div>"
      ],
      "text/plain": [
       "   tripduration            starttime             stoptime  start station id  \\\n",
       "0           382  2014-02-01 00:00:00  2014-02-01 00:06:22               294   \n",
       "1           372  2014-02-01 00:00:03  2014-02-01 00:06:15               285   \n",
       "2           591  2014-02-01 00:00:09  2014-02-01 00:10:00               247   \n",
       "3           583  2014-02-01 00:00:32  2014-02-01 00:10:15               357   \n",
       "4           223  2014-02-01 00:00:41  2014-02-01 00:04:24               401   \n",
       "\n",
       "        start station name  start station latitude  start station longitude  \\\n",
       "0      Washington Square E               40.730494               -73.995721   \n",
       "1       Broadway & E 14 St               40.734546               -73.990741   \n",
       "2   Perry St & Bleecker St               40.735354               -74.004831   \n",
       "3       E 11 St & Broadway               40.732618               -73.991580   \n",
       "4  Allen St & Rivington St               40.720196               -73.989978   \n",
       "\n",
       "   end station id          end station name  end station latitude  \\\n",
       "0             265  Stanton St & Chrystie St             40.722293   \n",
       "1             439            E 4 St & 2 Ave             40.726281   \n",
       "2             251       Mott St & Prince St             40.723180   \n",
       "3             284     Greenwich Ave & 8 Ave             40.739017   \n",
       "4             439            E 4 St & 2 Ave             40.726281   \n",
       "\n",
       "   end station longitude  bikeid    usertype birth year  gender  \\\n",
       "0             -73.991475   21101  Subscriber       1991       1   \n",
       "1             -73.989780   15456  Subscriber       1979       2   \n",
       "2             -73.994800   16281  Subscriber       1948       2   \n",
       "3             -74.002638   17400  Subscriber       1981       1   \n",
       "4             -73.989780   19341  Subscriber       1990       1   \n",
       "\n",
       "                 date  \n",
       "0 2014-02-01 00:00:00  \n",
       "1 2014-02-01 00:00:03  \n",
       "2 2014-02-01 00:00:09  \n",
       "3 2014-02-01 00:00:32  \n",
       "4 2014-02-01 00:00:41  "
      ]
     },
     "execution_count": 105,
     "metadata": {},
     "output_type": "execute_result"
    }
   ],
   "source": [
    "\n",
    "dataframe = pd.read_csv('/home/cusp/cjs676/PUIdata/201402-citibike-tripdata.csv')\n",
    "# df is the dataframe where the content of the csv file is stored\n",
    "dataframe['date'] = pd.to_datetime(dataframe['starttime'])\n",
    "# note that with dataframes I can refer to variables as dictionary keys, \n",
    "# i.e. df['starttime'] or as attributes: df.starttime. \n",
    "\n",
    "dataframe.head(n=5)"
   ]
  },
  {
   "cell_type": "code",
   "execution_count": 106,
   "metadata": {
    "collapsed": false
   },
   "outputs": [
    {
     "data": {
      "text/plain": [
       "Index([u'tripduration', u'starttime', u'stoptime', u'start station id',\n",
       "       u'start station name', u'start station latitude',\n",
       "       u'start station longitude', u'end station id', u'end station name',\n",
       "       u'end station latitude', u'end station longitude', u'bikeid',\n",
       "       u'usertype', u'birth year', u'gender', u'date'],\n",
       "      dtype='object')"
      ]
     },
     "execution_count": 106,
     "metadata": {},
     "output_type": "execute_result"
    }
   ],
   "source": [
    "dataframe.columns\n"
   ]
  },
  {
   "cell_type": "code",
   "execution_count": 107,
   "metadata": {
    "collapsed": false
   },
   "outputs": [],
   "source": [
    "dataframe.drop([ 'tripduration', 'starttime', 'stoptime',\n",
    "       'start station name', 'start station latitude',\n",
    "       'start station longitude', 'end station id', 'end station name',\n",
    "       'end station latitude', 'end station longitude', 'bikeid',\n",
    "       'usertype', 'birth year', 'gender'], axis=1, inplace=True)"
   ]
  },
  {
   "cell_type": "code",
   "execution_count": 108,
   "metadata": {
    "collapsed": false
   },
   "outputs": [
    {
     "data": {
      "text/html": [
       "<div>\n",
       "<table border=\"1\" class=\"dataframe\">\n",
       "  <thead>\n",
       "    <tr style=\"text-align: right;\">\n",
       "      <th></th>\n",
       "      <th>start station id</th>\n",
       "      <th>date</th>\n",
       "    </tr>\n",
       "  </thead>\n",
       "  <tbody>\n",
       "    <tr>\n",
       "      <th>0</th>\n",
       "      <td>294</td>\n",
       "      <td>2014-02-01 00:00:00</td>\n",
       "    </tr>\n",
       "    <tr>\n",
       "      <th>1</th>\n",
       "      <td>285</td>\n",
       "      <td>2014-02-01 00:00:03</td>\n",
       "    </tr>\n",
       "    <tr>\n",
       "      <th>2</th>\n",
       "      <td>247</td>\n",
       "      <td>2014-02-01 00:00:09</td>\n",
       "    </tr>\n",
       "    <tr>\n",
       "      <th>3</th>\n",
       "      <td>357</td>\n",
       "      <td>2014-02-01 00:00:32</td>\n",
       "    </tr>\n",
       "    <tr>\n",
       "      <th>4</th>\n",
       "      <td>401</td>\n",
       "      <td>2014-02-01 00:00:41</td>\n",
       "    </tr>\n",
       "  </tbody>\n",
       "</table>\n",
       "</div>"
      ],
      "text/plain": [
       "   start station id                date\n",
       "0               294 2014-02-01 00:00:00\n",
       "1               285 2014-02-01 00:00:03\n",
       "2               247 2014-02-01 00:00:09\n",
       "3               357 2014-02-01 00:00:32\n",
       "4               401 2014-02-01 00:00:41"
      ]
     },
     "execution_count": 108,
     "metadata": {},
     "output_type": "execute_result"
    }
   ],
   "source": [
    "dataframe.head(n=5)\n"
   ]
  },
  {
   "cell_type": "code",
   "execution_count": 109,
   "metadata": {
    "collapsed": false
   },
   "outputs": [],
   "source": [
    "dataframe ['weekday'] = dataframe ['date'].apply(lambda x: x.weekday())\n"
   ]
  },
  {
   "cell_type": "code",
   "execution_count": 111,
   "metadata": {
    "collapsed": false
   },
   "outputs": [
    {
     "data": {
      "text/html": [
       "<div>\n",
       "<table border=\"1\" class=\"dataframe\">\n",
       "  <thead>\n",
       "    <tr style=\"text-align: right;\">\n",
       "      <th></th>\n",
       "      <th>start station id</th>\n",
       "      <th>date</th>\n",
       "      <th>weekday</th>\n",
       "    </tr>\n",
       "  </thead>\n",
       "  <tbody>\n",
       "    <tr>\n",
       "      <th>0</th>\n",
       "      <td>294</td>\n",
       "      <td>2014-02-01 00:00:00</td>\n",
       "      <td>5</td>\n",
       "    </tr>\n",
       "    <tr>\n",
       "      <th>1</th>\n",
       "      <td>285</td>\n",
       "      <td>2014-02-01 00:00:03</td>\n",
       "      <td>5</td>\n",
       "    </tr>\n",
       "    <tr>\n",
       "      <th>2</th>\n",
       "      <td>247</td>\n",
       "      <td>2014-02-01 00:00:09</td>\n",
       "      <td>5</td>\n",
       "    </tr>\n",
       "    <tr>\n",
       "      <th>3</th>\n",
       "      <td>357</td>\n",
       "      <td>2014-02-01 00:00:32</td>\n",
       "      <td>5</td>\n",
       "    </tr>\n",
       "    <tr>\n",
       "      <th>4</th>\n",
       "      <td>401</td>\n",
       "      <td>2014-02-01 00:00:41</td>\n",
       "      <td>5</td>\n",
       "    </tr>\n",
       "  </tbody>\n",
       "</table>\n",
       "</div>"
      ],
      "text/plain": [
       "   start station id                date  weekday\n",
       "0               294 2014-02-01 00:00:00        5\n",
       "1               285 2014-02-01 00:00:03        5\n",
       "2               247 2014-02-01 00:00:09        5\n",
       "3               357 2014-02-01 00:00:32        5\n",
       "4               401 2014-02-01 00:00:41        5"
      ]
     },
     "execution_count": 111,
     "metadata": {},
     "output_type": "execute_result"
    }
   ],
   "source": [
    "dataframe.head(n=5)\n"
   ]
  },
  {
   "cell_type": "code",
   "execution_count": 112,
   "metadata": {
    "collapsed": false
   },
   "outputs": [
    {
     "data": {
      "text/plain": [
       "<matplotlib.text.Text at 0x7fb27867dd10>"
      ]
     },
     "execution_count": 112,
     "metadata": {},
     "output_type": "execute_result"
    },
    {
     "data": {
      "image/png": "[encoded data removed]",
      "text/plain": [
       "<matplotlib.figure.Figure at 0x7fb2785c5350>"
      ]
     },
     "metadata": {},
     "output_type": "display_data"
    }
   ],
   "source": [
    "norm_w = 1 \n",
    "ax = ((dataframe['date'].groupby([dataframe['date'].dt.weekday]).count()) / norm_w).plot(kind=\"bar\", color='IndianRed', alpha=0.5)\n",
    "\n",
    "tmp = ax.xaxis.set_ticklabels(['Mon','Tue','Wed','Thu','Fri','Sat','Sun'], fontsize=20)\n",
    "ax.set_ylabel (\"Number of rides\")\n",
    "ax.set_xlabel (\"Day of the week\")\n",
    "ax.set_title (\"Rides by day of week\")"
   ]
  },
  {
   "cell_type": "code",
   "execution_count": 114,
   "metadata": {
    "collapsed": false
   },
   "outputs": [
    {
     "name": "stdout",
     "output_type": "stream",
     "text": [
      "69201\n",
      "125164\n"
     ]
    }
   ],
   "source": [
    "data_count = dataframe.groupby('weekday').size()\n",
    "\n",
    "working_day_trip = 0\n",
    "weekend_day_trip = 0\n",
    "\n",
    "for i in range(0 , 4):\n",
    "    working_day_trip = data_count[i] + working_day_trip\n",
    "\n",
    "for i in (5,6):\n",
    "    weekend_day_trip = data_count[i] + weekend_day_trip\n",
    "    \n",
    "print (weekend_day_trip)\n",
    "print (working_day_trip)\n"
   ]
  },
  {
   "cell_type": "code",
   "execution_count": 132,
   "metadata": {
    "collapsed": false
   },
   "outputs": [
    {
     "name": "stdout",
     "output_type": "stream",
     "text": [
      "8650.125\n",
      "6258.2\n"
     ]
    }
   ],
   "source": [
    "#divide number of trips by the number of weekend days in the month\n",
    "average_weekend_day_trip = weekend_day_trip / 8\n",
    "#divide the number of trips by the number of weekdays in the month\n",
    "average_working_day_trip = working_day_trip / 20\n",
    "print (average_weekend_day_trip)\n",
    "print (average_working_day_trip)\n",
    "new_plot = [average_weekend_day_trip, average_working_day_trip]\n"
   ]
  },
  {
   "cell_type": "code",
   "execution_count": null,
   "metadata": {
    "collapsed": true
   },
   "outputs": [],
   "source": []
  }
 ],
 "metadata": {
  "anaconda-cloud": {},
  "kernelspec": {
   "display_name": "Python [Root]",
   "language": "python",
   "name": "Python [Root]"
  },
  "language_info": {
   "codemirror_mode": {
    "name": "ipython",
    "version": 2
   },
   "file_extension": ".py",
   "mimetype": "text/x-python",
   "name": "python",
   "nbconvert_exporter": "python",
   "pygments_lexer": "ipython2",
   "version": "2.7.12"
  }
 },
 "nbformat": 4,
 "nbformat_minor": 0
}
